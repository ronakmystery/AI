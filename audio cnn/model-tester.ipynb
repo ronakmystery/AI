{
 "cells": [
  {
   "cell_type": "code",
   "execution_count": 2,
   "metadata": {},
   "outputs": [
    {
     "name": "stdout",
     "output_type": "stream",
     "text": [
      "✅ Bird Species: ['American Robin', \"Bewick's Wren\", 'Northern Cardinal', 'Northern Mockingbird', 'Song Sparrow']\n",
      "✅ Label Mapping: {'American Robin': 0, \"Bewick's Wren\": 1, 'Northern Cardinal': 2, 'Northern Mockingbird': 3, 'Song Sparrow': 4}\n"
     ]
    }
   ],
   "source": [
    "import json\n",
    "\n",
    "# Load JSON data\n",
    "with open(\"filtered_data.json\", \"r\") as f:\n",
    "    bird_data = json.load(f)\n",
    "\n",
    "\n",
    "import os\n",
    "\n",
    "# ✅ Extract Bird Species Labels\n",
    "labels = list(bird_data.keys())  # List all bird species\n",
    "label_mapping = {species: idx for idx, species in enumerate(labels)}  # Assign numeric labels\n",
    "reverse_label_mapping = {idx: species for species, idx in label_mapping.items()}  # Label → Bird\n",
    "\n",
    "print(f\"✅ Bird Species: {labels}\")\n",
    "print(f\"✅ Label Mapping: {label_mapping}\")"
   ]
  },
  {
   "cell_type": "code",
   "execution_count": 72,
   "metadata": {},
   "outputs": [
    {
     "name": "stdout",
     "output_type": "stream",
     "text": [
      "✅ Bird Species: ['American Robin', \"Bewick's Wren\", 'Northern Cardinal', 'Northern Mockingbird', 'Song Sparrow']\n",
      "✅ Label Mapping: {'American Robin': 0, \"Bewick's Wren\": 1, 'Northern Cardinal': 2, 'Northern Mockingbird': 3, 'Song Sparrow': 4}\n",
      "✅ Model loaded successfully!\n",
      "🎲 Randomly Selected File: 20420-4.wav\n",
      "🏷️ True Label: Northern Cardinal\n",
      "\n",
      "🔍 File: 20420-4.wav\n",
      "🤖 Predicted Class: Northern Cardinal\n",
      "🏷️ True Class: Northern Cardinal (✅ Correct)\n"
     ]
    }
   ],
   "source": [
    "import json\n",
    "\n",
    "# Load JSON data\n",
    "with open(\"filtered_data.json\", \"r\") as f:\n",
    "    bird_data = json.load(f)\n",
    "\n",
    "\n",
    "import os\n",
    "\n",
    "# ✅ Extract Bird Species Labels\n",
    "labels = list(bird_data.keys())  # List all bird species\n",
    "label_mapping = {species: idx for idx, species in enumerate(labels)}  # Assign numeric labels\n",
    "reverse_label_mapping = {idx: species for species, idx in label_mapping.items()}  # Label → Bird\n",
    "\n",
    "print(f\"✅ Bird Species: {labels}\")\n",
    "print(f\"✅ Label Mapping: {label_mapping}\")\n",
    "\n",
    "import torch\n",
    "\n",
    "# ✅ Define Model Path\n",
    "MODEL_PATH = \"x.pth\"  # Change this to your actual model path\n",
    "\n",
    "# ✅ Load Model\n",
    "device = torch.device(\"cuda\" if torch.cuda.is_available() else \"cpu\")\n",
    "\n",
    "from cnn import ImprovedBirdSoundCNN\n",
    "# ✅ Define Model Architecture (must match trained model)\n",
    "model = ImprovedBirdSoundCNN(num_classes=5).to(device)  # Replace 5 with your actual number of classes\n",
    "model.load_state_dict(torch.load(MODEL_PATH, map_location=device))\n",
    "model.eval()\n",
    "\n",
    "print(\"✅ Model loaded successfully!\")\n",
    "\n",
    "import json\n",
    "import random\n",
    "import os\n",
    "\n",
    "# ✅ Load JSON Data\n",
    "with open(\"filtered_data.json\", \"r\") as f:\n",
    "    bird_data = json.load(f)\n",
    "\n",
    "# ✅ Create Dictionary {filename: label}\n",
    "file_to_label = {bird[\"filename\"]: bird[\"name\"] for bird_list in bird_data.values() for bird in bird_list}\n",
    "\n",
    "\n",
    "# ✅ Pick a Random File\n",
    "random_file, true_label = random.choice(list(file_to_label.items()))\n",
    "file_path = os.path.join(\"wavfiles\", random_file)  # Ensure correct path\n",
    "\n",
    "print(f\"🎲 Randomly Selected File: {random_file}\")\n",
    "print(f\"🏷️ True Label: {true_label}\")\n",
    "\n",
    "import librosa\n",
    "import numpy as np\n",
    "import torch\n",
    "\n",
    "# ✅ Load and Process the Audio\n",
    "y, sr = librosa.load(file_path, sr=None)\n",
    "\n",
    "# ✅ Convert to Mel Spectrogram\n",
    "mel_spec = librosa.feature.melspectrogram(y=y, sr=sr, n_mels=128)\n",
    "mel_spec_db = librosa.power_to_db(mel_spec, ref=np.max)\n",
    "\n",
    "# ✅ Convert to PyTorch Tensor & Ensure Correct Shape\n",
    "mel_tensor = torch.tensor(mel_spec_db, dtype=torch.float32).unsqueeze(0)  # Shape (1, 128, T)\n",
    "\n",
    "# ✅ Resize to (1, 1, 64, 64) to Match Model Input\n",
    "mel_tensor = torch.nn.functional.interpolate(mel_tensor.unsqueeze(0), size=(64, 64), mode=\"bilinear\", align_corners=False)\n",
    "mel_tensor = mel_tensor.to(device)  # Move to CPU/GPU\n",
    "\n",
    "# ✅ Run Model Prediction\n",
    "with torch.no_grad():\n",
    "    output = model(mel_tensor)\n",
    "    predicted_label = output.argmax(dim=1).item()\n",
    "    pred_class = reverse_label_mapping[predicted_label]  # Convert ID to class name\n",
    "\n",
    "# ✅ Print Results\n",
    "print(f\"\\n🔍 File: {random_file}\")\n",
    "print(f\"🤖 Predicted Class: {pred_class}\")\n",
    "print(f\"🏷️ True Class: {true_label} ({'✅ Correct' if pred_class == true_label else '❌ Incorrect'})\")\n",
    "\n",
    "\n"
   ]
  }
 ],
 "metadata": {
  "kernelspec": {
   "display_name": "Python 3",
   "language": "python",
   "name": "python3"
  },
  "language_info": {
   "codemirror_mode": {
    "name": "ipython",
    "version": 3
   },
   "file_extension": ".py",
   "mimetype": "text/x-python",
   "name": "python",
   "nbconvert_exporter": "python",
   "pygments_lexer": "ipython3",
   "version": "3.11.9"
  }
 },
 "nbformat": 4,
 "nbformat_minor": 2
}
